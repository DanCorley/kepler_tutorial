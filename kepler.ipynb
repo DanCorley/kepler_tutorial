{
 "cells": [
  {
   "cell_type": "code",
   "execution_count": 1,
   "metadata": {},
   "outputs": [],
   "source": [
    "from sodapy import Socrata\n",
    "import geopandas as gpd\n",
    "import json\n",
    "from keplergl import KeplerGl"
   ]
  },
  {
   "cell_type": "code",
   "execution_count": 2,
   "metadata": {},
   "outputs": [],
   "source": [
    "#insert your own token to avoid throttling\n",
    "#found at https://data.cityofchicago.org/profile\n",
    "token = 'OfytEmI12Fl0Yq13HTVq7ROlF'"
   ]
  },
  {
   "cell_type": "code",
   "execution_count": 3,
   "metadata": {},
   "outputs": [],
   "source": [
    "def get_boundaries(dataset, token=None):\n",
    "    '''\n",
    "    Creates a request for the SODA API datasets. \n",
    "    area inputs:\n",
    "        'community' - community areas\n",
    "        'census' - census tracts\n",
    "        \n",
    "    returns: geopandas coordinates for boundaries\n",
    "    '''\n",
    "    #instantiate the Socrata client with the domain\n",
    "    #optional to input your own app_token to bypass throttling\n",
    "    client = Socrata(\n",
    "        domain = 'data.cityofchicago.org',\n",
    "        app_token=token\n",
    "    )\n",
    "    #correct column name for the dataset called\n",
    "    if dataset == 'census':\n",
    "        dataset = '74p9-q2aq'\n",
    "        area = 'geoid10'\n",
    "    else:\n",
    "        dataset = 'igwz-8jzy'\n",
    "        area = 'area_numbe'\n",
    "        \n",
    "    #only return what is needed and simplify the geometry\n",
    "    #(to minimize download size)\n",
    "    select = f'''{area} as area,\\\n",
    "    simplify_preserve_topology(the_geom, 0.0001) AS the_geom'''\n",
    "    \n",
    "    #make the request\n",
    "    results = client.get(\n",
    "        dataset_identifier = dataset,\n",
    "        content_type = 'geojson',\n",
    "        select = select\n",
    "    )\n",
    "    \n",
    "    #turn results into a GeoDataFrame\n",
    "    gdf = gpd.GeoDataFrame.from_features(results)\n",
    "    \n",
    "    return gdf\n",
    "\n",
    "bounds = get_boundaries('census', token)"
   ]
  },
  {
   "cell_type": "code",
   "execution_count": 23,
   "metadata": {},
   "outputs": [],
   "source": [
    "def get_rides(dataset, start, end, token=None, daily = False):\n",
    "    '''\n",
    "    Creates a request for the SODA API datasets. \n",
    "    dataset inputs:\n",
    "        'community' - community areas\n",
    "        'census' - census tracts\n",
    "    \n",
    "    returns: geopandas coordinates for boundaries\n",
    "    '''\n",
    "    if dataset == 'census':\n",
    "        area = 'pickup_census_tract'\n",
    "    else:\n",
    "        area = 'pickup_community_area'\n",
    "    \n",
    "    client = Socrata(\n",
    "        domain = 'data.cityofchicago.org',\n",
    "        app_token=token, timeout=100000\n",
    "    )\n",
    "    \n",
    "    #set up query to return grouping by days\n",
    "    if daily:\n",
    "        select = f'date_trunc_ymd(trip_start_timestamp) as date,\\\n",
    "        {area} AS area, COUNT(trip_id) as rides'\n",
    "        group = 'date, area'\n",
    "        where = f'date between \"{start}\" and \"{end}\"'\n",
    "    else:\n",
    "        select = f'{area} AS area, COUNT(trip_id) as rides'\n",
    "        group = 'area' \n",
    "        where = f'trip_start_timestamp between \"{start}\" and \"{end}\"'\n",
    "\n",
    "    results = client.get(\n",
    "        dataset_identifier='m6dm-c72p',\n",
    "        select=select, group=group, where=where,\n",
    "        content_type = 'json', limit=100_000\n",
    "    )\n",
    "\n",
    "    gdf = gpd.GeoDataFrame(results)\n",
    "    \n",
    "    return gdf"
   ]
  },
  {
   "cell_type": "code",
   "execution_count": 25,
   "metadata": {},
   "outputs": [
    {
     "name": "stdout",
     "output_type": "stream",
     "text": [
      "CPU times: user 113 ms, sys: 17.6 ms, total: 131 ms\n",
      "Wall time: 2min 35s\n"
     ]
    }
   ],
   "source": [
    "%%time\n",
    "#show run time\n",
    "\n",
    "#make the call for \n",
    "gdf = get_rides('census', '2019-03-01', '2019-03-31', token, daily=True)\n",
    "\n",
    "#merge the two dataframes to add geometry\n",
    "gdf = gdf.merge(bounds, on='area')"
   ]
  },
  {
   "cell_type": "code",
   "execution_count": 6,
   "metadata": {},
   "outputs": [],
   "source": [
    "def open_config(file_name='config.json'):\n",
    "    '''\n",
    "    helper function to load preconfigured Kepler configs\n",
    "    '''\n",
    "    try: \n",
    "        current_file = json.load(open(file_name, 'r'))\n",
    "        print('config loaded')\n",
    "        return current_file\n",
    "    except FileNotFoundError:\n",
    "        print('no current config file. plz initialize map, and use map.config')\n",
    "        return {}"
   ]
  },
  {
   "cell_type": "code",
   "execution_count": 7,
   "metadata": {},
   "outputs": [
    {
     "name": "stdout",
     "output_type": "stream",
     "text": [
      "no current config file. plz initialize map, and use map.config\n"
     ]
    }
   ],
   "source": [
    "config = open_config()"
   ]
  },
  {
   "cell_type": "code",
   "execution_count": 17,
   "metadata": {
    "scrolled": false
   },
   "outputs": [
    {
     "name": "stdout",
     "output_type": "stream",
     "text": [
      "User Guide: https://github.com/keplergl/kepler.gl/blob/master/docs/keplergl-jupyter/user-guide.md\n"
     ]
    },
    {
     "data": {
      "application/vnd.jupyter.widget-view+json": {
       "model_id": "b994e9da54ed44b58910b5b78f79c44d",
       "version_major": 2,
       "version_minor": 0
      },
      "text/plain": [
       "KeplerGl(data={'trips': {'index': [0, 1, 2, 3, 4, 5, 6, 7, 8, 9, 10, 11, 12, 13, 14, 15, 16, 17, 18, 19, 20, 2…"
      ]
     },
     "metadata": {},
     "output_type": "display_data"
    }
   ],
   "source": [
    "map_1 = KeplerGl(height=800)\n",
    "map_1.add_data(gdf, 'trips')\n",
    "map_1"
   ]
  },
  {
   "cell_type": "code",
   "execution_count": null,
   "metadata": {},
   "outputs": [],
   "source": [
    "def save_config(config, file_name='config.json'):\n",
    "    '''\n",
    "    helper function to save the current config for Kepler\n",
    "    '''\n",
    "    def save():\n",
    "        with open(file_name, 'w') as f:\n",
    "                json.dump(config, f)\n",
    "    try:\n",
    "        current_file = json.load(open(file_name, 'r'))\n",
    "        if config != current_file:\n",
    "            print('changes detected. saving current config')\n",
    "            save()\n",
    "        else:\n",
    "            print('no changes detected')\n",
    "            \n",
    "    except FileNotFoundError:\n",
    "        print('no existing file in directory. saving current config')\n",
    "        save()\n",
    "\n",
    "save_config(map_1.config, file_name='community.json')"
   ]
  },
  {
   "cell_type": "code",
   "execution_count": null,
   "metadata": {},
   "outputs": [],
   "source": [
    "map_1.save_to_html(data=map_1.data, file_name='chicago.html')"
   ]
  },
  {
   "cell_type": "code",
   "execution_count": null,
   "metadata": {},
   "outputs": [],
   "source": []
  }
 ],
 "metadata": {
  "kernelspec": {
   "display_name": "learn-env",
   "language": "python",
   "name": "learn-env"
  },
  "language_info": {
   "codemirror_mode": {
    "name": "ipython",
    "version": 3
   },
   "file_extension": ".py",
   "mimetype": "text/x-python",
   "name": "python",
   "nbconvert_exporter": "python",
   "pygments_lexer": "ipython3",
   "version": "3.6.9"
  },
  "nteract": {
   "version": "0.22.0"
  }
 },
 "nbformat": 4,
 "nbformat_minor": 4
}
