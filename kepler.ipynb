{
 "cells": [
  {
   "cell_type": "code",
   "execution_count": 1,
   "metadata": {},
   "outputs": [],
   "source": [
    "from sodapy import Socrata\n",
    "import geopandas as gpd\n",
    "import json\n",
    "from keplergl import KeplerGl"
   ]
  },
  {
   "cell_type": "code",
   "execution_count": 2,
   "metadata": {},
   "outputs": [],
   "source": [
    "#insert your own token to avoid throttling\n",
    "#found at https://data.cityofchicago.org/profile\n",
    "token = 'OfytEmI12Fl0Yq13HTVq7ROlF'"
   ]
  },
  {
   "cell_type": "code",
   "execution_count": 3,
   "metadata": {},
   "outputs": [],
   "source": [
    "# creating the daterange we'll use for this notebook\n",
    "start = '2019-03-01'\n",
    "end = '2019-03-31'"
   ]
  },
  {
   "cell_type": "code",
   "execution_count": 4,
   "metadata": {},
   "outputs": [],
   "source": [
    "def get_rides(start, end, token=None):\n",
    "    '''\n",
    "    Creates a request for the SODA API datasets. \n",
    "    \n",
    "    returns: geopandas coordinates for rides\n",
    "    '''\n",
    "    #instantiate the Socrata client\n",
    "    client = Socrata(\n",
    "        domain = 'data.cityofchicago.org',\n",
    "        app_token=token, timeout=100000\n",
    "    )\n",
    "    \n",
    "    #set up the SoSQL call\n",
    "    select = 'pickup_centroid_location AS geometry, COUNT(trip_id) AS rides'\n",
    "    group = 'geometry' \n",
    "    where = f'trip_start_timestamp between \"{start}\" and \"{end}\"'\n",
    "    \n",
    "    #make the call for the data, specifying the correct dataset\n",
    "    results = client.get(\n",
    "        dataset_identifier='m6dm-c72p',\n",
    "        select=select, group=group, where=where,\n",
    "        content_type = 'geojson', limit=100_000\n",
    "    )\n",
    "    client.close()\n",
    "    \n",
    "    #add data to geopandas\n",
    "    gdf = gpd.GeoDataFrame.from_features(results).dropna()\n",
    "    gdf.rides = gdf.rides.astype('int32')\n",
    "    \n",
    "    return gdf"
   ]
  },
  {
   "cell_type": "code",
   "execution_count": 5,
   "metadata": {},
   "outputs": [],
   "source": [
    "# creating the daterange we'll use for this notebook\n",
    "start = '2019-03-01'\n",
    "end = '2019-03-31'"
   ]
  },
  {
   "cell_type": "code",
   "execution_count": 6,
   "metadata": {},
   "outputs": [
    {
     "name": "stdout",
     "output_type": "stream",
     "text": [
      "CPU times: user 67.2 ms, sys: 12.1 ms, total: 79.3 ms\n",
      "Wall time: 37.1 s\n"
     ]
    }
   ],
   "source": [
    "%%time\n",
    "#calling our data gathering funciton\n",
    "gdf_point = get_rides(start, end, token)"
   ]
  },
  {
   "cell_type": "code",
   "execution_count": 7,
   "metadata": {},
   "outputs": [],
   "source": [
    "#defining helper functions to load/save map config files\n",
    "#(to maintain similar visuals)\n",
    "\n",
    "def open_config(file_name):\n",
    "    '''\n",
    "    helper function to load preconfigured Kepler configs\n",
    "    '''\n",
    "    try: \n",
    "        current_file = json.load(open(file_name, 'r'))\n",
    "        print('config loaded')\n",
    "        return current_file\n",
    "    except FileNotFoundError:\n",
    "        print('no config file found. plz initialize map, and use map.config')\n",
    "        return {}\n",
    "\n",
    "    \n",
    "def save_config(config, file_name):\n",
    "    '''\n",
    "    helper function to save the current config for Kepler\n",
    "    '''\n",
    "    def save():\n",
    "        with open(file_name, 'w') as f:\n",
    "                json.dump(config, f)\n",
    "    try:\n",
    "        current_file = json.load(open(file_name, 'r'))\n",
    "        if config != current_file:\n",
    "            print('changes detected. saving current config')\n",
    "            save()\n",
    "        else:\n",
    "            print('no changes detected')\n",
    "            \n",
    "    except FileNotFoundError:\n",
    "        print('no existing file in directory. saving current config')\n",
    "        save()"
   ]
  },
  {
   "cell_type": "code",
   "execution_count": 8,
   "metadata": {
    "scrolled": false
   },
   "outputs": [
    {
     "name": "stdout",
     "output_type": "stream",
     "text": [
      "config loaded\n"
     ]
    }
   ],
   "source": [
    "point_config = open_config('configs/point_config.json')"
   ]
  },
  {
   "cell_type": "code",
   "execution_count": 44,
   "metadata": {},
   "outputs": [
    {
     "name": "stdout",
     "output_type": "stream",
     "text": [
      "User Guide: https://github.com/keplergl/kepler.gl/blob/master/docs/keplergl-jupyter/user-guide.md\n"
     ]
    },
    {
     "data": {
      "application/vnd.jupyter.widget-view+json": {
       "model_id": "ce493f908e244f30a1299f176da14022",
       "version_major": 2,
       "version_minor": 0
      },
      "text/plain": [
       "KeplerGl(config={'version': 'v1', 'config': {'visState': {'filters': [], 'layers': [{'id': 'y3o56bm', 'type': …"
      ]
     },
     "metadata": {},
     "output_type": "display_data"
    }
   ],
   "source": [
    "map_1 = KeplerGl(height=900, config=point_config)\n",
    "map_1.add_data(gdf_point, 'rides')\n",
    "map_1"
   ]
  },
  {
   "cell_type": "code",
   "execution_count": 45,
   "metadata": {},
   "outputs": [
    {
     "name": "stdout",
     "output_type": "stream",
     "text": [
      "no changes detected\n"
     ]
    }
   ],
   "source": [
    "save_config(map_1.config, file_name='configs/point_config.json')"
   ]
  },
  {
   "cell_type": "code",
   "execution_count": 46,
   "metadata": {},
   "outputs": [],
   "source": [
    "del map_1"
   ]
  },
  {
   "cell_type": "code",
   "execution_count": 12,
   "metadata": {},
   "outputs": [],
   "source": [
    "def get_boundaries(token=None):\n",
    "    '''\n",
    "    Creates a request for the SODA API datasets. \n",
    "    area inputs:\n",
    "        'community' - community areas\n",
    "        'census' - census tracts\n",
    "        \n",
    "    returns: geopandas coordinates for boundaries\n",
    "    '''\n",
    "    #instantiate the Socrata client with the domain\n",
    "    #optional to input your own app_token to bypass throttling\n",
    "    client = Socrata(\n",
    "        domain = 'data.cityofchicago.org', app_token=token\n",
    "    )\n",
    "        \n",
    "    #only return what is needed and simplify the geometry\n",
    "    #(to minimize download size)\n",
    "    select = 'geoid10 as area,\\\n",
    "    simplify_preserve_topology(the_geom, 0.0001) AS the_geom'\n",
    "    \n",
    "    #make the request\n",
    "    results = client.get(\n",
    "        dataset_identifier = '74p9-q2aq', content_type = 'geojson',\n",
    "        select = select\n",
    "    )\n",
    "    \n",
    "    #turn results into a GeoDataFrame\n",
    "    gdf = gpd.GeoDataFrame.from_features(results)\n",
    "    \n",
    "    return gdf.dropna()"
   ]
  },
  {
   "cell_type": "code",
   "execution_count": 13,
   "metadata": {},
   "outputs": [],
   "source": [
    "bounds = get_boundaries(token)"
   ]
  },
  {
   "cell_type": "code",
   "execution_count": 14,
   "metadata": {},
   "outputs": [
    {
     "name": "stdout",
     "output_type": "stream",
     "text": [
      "config loaded\n"
     ]
    }
   ],
   "source": [
    "bounds_config = open_config('configs/bounds_config.json')"
   ]
  },
  {
   "cell_type": "code",
   "execution_count": 47,
   "metadata": {
    "scrolled": false
   },
   "outputs": [
    {
     "name": "stdout",
     "output_type": "stream",
     "text": [
      "User Guide: https://github.com/keplergl/kepler.gl/blob/master/docs/keplergl-jupyter/user-guide.md\n"
     ]
    },
    {
     "data": {
      "application/vnd.jupyter.widget-view+json": {
       "model_id": "b1b6491612d74577850c0b69c5859f60",
       "version_major": 2,
       "version_minor": 0
      },
      "text/plain": [
       "KeplerGl(config={'version': 'v1', 'config': {'visState': {'filters': [], 'layers': [{'id': 'viq97cc', 'type': …"
      ]
     },
     "metadata": {},
     "output_type": "display_data"
    }
   ],
   "source": [
    "map_2 = KeplerGl(height=800, config=bounds_config)\n",
    "map_2.add_data(bounds, 'boundaries')\n",
    "map_2"
   ]
  },
  {
   "cell_type": "code",
   "execution_count": 16,
   "metadata": {},
   "outputs": [
    {
     "name": "stdout",
     "output_type": "stream",
     "text": [
      "no changes detected\n"
     ]
    }
   ],
   "source": [
    "save_config(map_2.config, 'configs/bounds_config.json')"
   ]
  },
  {
   "cell_type": "code",
   "execution_count": 48,
   "metadata": {},
   "outputs": [],
   "source": [
    "del map_2"
   ]
  },
  {
   "cell_type": "code",
   "execution_count": 18,
   "metadata": {
    "scrolled": true
   },
   "outputs": [
    {
     "name": "stdout",
     "output_type": "stream",
     "text": [
      "config loaded\n"
     ]
    }
   ],
   "source": [
    "gb_config = open_config('configs/gb_config.json')"
   ]
  },
  {
   "cell_type": "code",
   "execution_count": 49,
   "metadata": {
    "scrolled": false
   },
   "outputs": [
    {
     "name": "stdout",
     "output_type": "stream",
     "text": [
      "User Guide: https://github.com/keplergl/kepler.gl/blob/master/docs/keplergl-jupyter/user-guide.md\n"
     ]
    },
    {
     "data": {
      "application/vnd.jupyter.widget-view+json": {
       "model_id": "275401995587480f844800cf03fc48fc",
       "version_major": 2,
       "version_minor": 0
      },
      "text/plain": [
       "KeplerGl(config={'version': 'v1', 'config': {'visState': {'filters': [], 'layers': [{'id': 'pakdrbr', 'type': …"
      ]
     },
     "metadata": {},
     "output_type": "display_data"
    }
   ],
   "source": [
    "map_3 = KeplerGl(height=800, config=gb_config)\n",
    "map_3.add_data(bounds, 'boundaries')\n",
    "map_3.add_data(gdf_point, 'rides')\n",
    "map_3"
   ]
  },
  {
   "cell_type": "code",
   "execution_count": 20,
   "metadata": {
    "scrolled": true
   },
   "outputs": [
    {
     "name": "stdout",
     "output_type": "stream",
     "text": [
      "no changes detected\n"
     ]
    }
   ],
   "source": [
    "save_config(map_3.config, 'configs/gb_config.json')"
   ]
  },
  {
   "cell_type": "code",
   "execution_count": 50,
   "metadata": {},
   "outputs": [],
   "source": [
    "del map_3"
   ]
  },
  {
   "cell_type": "code",
   "execution_count": 22,
   "metadata": {},
   "outputs": [
    {
     "data": {
      "text/plain": [
       "False"
      ]
     },
     "execution_count": 22,
     "metadata": {},
     "output_type": "execute_result"
    }
   ],
   "source": [
    "bounds.geometry[0].contains(gdf_point.geometry[0])"
   ]
  },
  {
   "cell_type": "code",
   "execution_count": 23,
   "metadata": {},
   "outputs": [],
   "source": [
    "def get_num_rides(bound, points):\n",
    "    \n",
    "    tup = points.itertuples()\n",
    "    \n",
    "    lst = [ride.rides for ride in tup if bound.contains(ride.geometry)]\n",
    "    \n",
    "    return sum(lst)"
   ]
  },
  {
   "cell_type": "code",
   "execution_count": 24,
   "metadata": {},
   "outputs": [],
   "source": [
    "# gdf_point.rides = gdf_point.rides.astype('int32')"
   ]
  },
  {
   "cell_type": "code",
   "execution_count": 25,
   "metadata": {},
   "outputs": [],
   "source": [
    "bounds['rides'] = bounds.geometry.map(lambda area: get_num_rides(area, gdf_point))"
   ]
  },
  {
   "cell_type": "code",
   "execution_count": 26,
   "metadata": {
    "scrolled": true
   },
   "outputs": [
    {
     "name": "stdout",
     "output_type": "stream",
     "text": [
      "config loaded\n"
     ]
    }
   ],
   "source": [
    "br_config = open_config('configs/br_config.json')"
   ]
  },
  {
   "cell_type": "code",
   "execution_count": 51,
   "metadata": {
    "scrolled": false
   },
   "outputs": [
    {
     "name": "stdout",
     "output_type": "stream",
     "text": [
      "User Guide: https://github.com/keplergl/kepler.gl/blob/master/docs/keplergl-jupyter/user-guide.md\n"
     ]
    },
    {
     "data": {
      "application/vnd.jupyter.widget-view+json": {
       "model_id": "85c229e4c8634af7a78ae0d9ff9aba99",
       "version_major": 2,
       "version_minor": 0
      },
      "text/plain": [
       "KeplerGl(config={'version': 'v1', 'config': {'visState': {'filters': [], 'layers': [{'id': 't0oktdn', 'type': …"
      ]
     },
     "metadata": {},
     "output_type": "display_data"
    }
   ],
   "source": [
    "map_4 = KeplerGl(height=700, config=br_config)\n",
    "map_4.add_data(bounds, 'bounds')\n",
    "map_4"
   ]
  },
  {
   "cell_type": "code",
   "execution_count": 28,
   "metadata": {},
   "outputs": [
    {
     "name": "stdout",
     "output_type": "stream",
     "text": [
      "no changes detected\n"
     ]
    }
   ],
   "source": [
    "save_config(map_4.config, 'configs/br_config.json')"
   ]
  },
  {
   "cell_type": "code",
   "execution_count": 52,
   "metadata": {},
   "outputs": [],
   "source": [
    "del map_4"
   ]
  },
  {
   "cell_type": "code",
   "execution_count": 30,
   "metadata": {},
   "outputs": [],
   "source": [
    "def get_daily_rides(start, end, token=None):\n",
    "    '''\n",
    "    Creates a request for the SODA API datasets. \n",
    "    \n",
    "    returns: geopandas coordinates for rides\n",
    "    '''\n",
    "    #instantiate the Socrata client\n",
    "    client = Socrata(\n",
    "        domain = 'data.cityofchicago.org',\n",
    "        app_token=token, timeout=100000\n",
    "    )\n",
    "    \n",
    "    #set up the SoSQL call\n",
    "    select = 'date_trunc_ymd(trip_start_timestamp) as date,\\\n",
    "    pickup_centroid_location AS geometry, COUNT(trip_id) AS rides'\n",
    "    group = 'date, geometry'\n",
    "    where = f'date between \"{start}\" and \"{end}\"'\n",
    "    \n",
    "    #make the call for the data, specifying the correct dataset\n",
    "    results = client.get(\n",
    "        dataset_identifier='m6dm-c72p',\n",
    "        select=select, group=group, where=where,\n",
    "        content_type = 'geojson', limit=100_000\n",
    "    )\n",
    "    client.close()\n",
    "    \n",
    "    #add data to geopandas\n",
    "    gdf = gpd.GeoDataFrame.from_features(results).dropna()\n",
    "    gdf.rides = gdf.rides.astype('int32')\n",
    "    \n",
    "    return gdf"
   ]
  },
  {
   "cell_type": "code",
   "execution_count": 31,
   "metadata": {},
   "outputs": [
    {
     "name": "stdout",
     "output_type": "stream",
     "text": [
      "CPU times: user 519 ms, sys: 32 ms, total: 551 ms\n",
      "Wall time: 4min 57s\n"
     ]
    }
   ],
   "source": [
    "%%time\n",
    "gdf_daily = get_daily_rides(start, end, token)"
   ]
  },
  {
   "cell_type": "code",
   "execution_count": 32,
   "metadata": {},
   "outputs": [],
   "source": [
    "def get_num_rides_daily(points, bounds):\n",
    "    \n",
    "    daily_bounds = []\n",
    "\n",
    "    for date in points.date.unique():\n",
    "        df = points[points['date'] == date].copy()\n",
    "\n",
    "        for geo in bounds.geometry:\n",
    "            tup = df.itertuples()\n",
    "            rides = sum(\n",
    "                [point.rides for point in tup if geo.contains(point.geometry)]\n",
    "            )\n",
    "            daily_bounds.append([date, geo, rides])\n",
    "            \n",
    "    daily_bounds = gpd.GeoDataFrame(\n",
    "        daily_bounds, columns=['date','geometry','rides']\n",
    "    )\n",
    "    \n",
    "    return daily_bounds"
   ]
  },
  {
   "cell_type": "code",
   "execution_count": 33,
   "metadata": {},
   "outputs": [],
   "source": [
    "daily_bounds = get_num_rides_daily(gdf_daily, bounds)"
   ]
  },
  {
   "cell_type": "code",
   "execution_count": 39,
   "metadata": {},
   "outputs": [
    {
     "name": "stdout",
     "output_type": "stream",
     "text": [
      "config loaded\n"
     ]
    }
   ],
   "source": [
    "db_config = open_config('configs/db_config.json')"
   ]
  },
  {
   "cell_type": "code",
   "execution_count": 54,
   "metadata": {
    "scrolled": false
   },
   "outputs": [
    {
     "name": "stdout",
     "output_type": "stream",
     "text": [
      "User Guide: https://github.com/keplergl/kepler.gl/blob/master/docs/keplergl-jupyter/user-guide.md\n"
     ]
    },
    {
     "data": {
      "application/vnd.jupyter.widget-view+json": {
       "model_id": "33a40b9f6c9d4a689e7f55954b4b412d",
       "version_major": 2,
       "version_minor": 0
      },
      "text/plain": [
       "KeplerGl(config={'version': 'v1', 'config': {'visState': {'filters': [{'dataId': 'daily_trips', 'id': 'ltpbcfv…"
      ]
     },
     "metadata": {},
     "output_type": "display_data"
    }
   ],
   "source": [
    "map_5 = KeplerGl(height=800, config=db_config)\n",
    "map_5.add_data(daily_bounds, 'daily_trips')\n",
    "map_5"
   ]
  },
  {
   "cell_type": "code",
   "execution_count": 55,
   "metadata": {},
   "outputs": [
    {
     "name": "stdout",
     "output_type": "stream",
     "text": [
      "changes detected. saving current config\n"
     ]
    }
   ],
   "source": [
    "save_config(map_5.config, 'configs/db_config.json')"
   ]
  },
  {
   "cell_type": "code",
   "execution_count": 56,
   "metadata": {},
   "outputs": [
    {
     "name": "stdout",
     "output_type": "stream",
     "text": [
      "Map saved to chicago.html!\n"
     ]
    }
   ],
   "source": [
    "map_5.save_to_html(data=map_5.data, file_name='chicago.html')"
   ]
  },
  {
   "cell_type": "code",
   "execution_count": 57,
   "metadata": {},
   "outputs": [],
   "source": [
    "del map_5"
   ]
  },
  {
   "cell_type": "code",
   "execution_count": null,
   "metadata": {},
   "outputs": [],
   "source": []
  }
 ],
 "metadata": {
  "kernelspec": {
   "display_name": "learn-env",
   "language": "python",
   "name": "learn-env"
  },
  "language_info": {
   "codemirror_mode": {
    "name": "ipython",
    "version": 3
   },
   "file_extension": ".py",
   "mimetype": "text/x-python",
   "name": "python",
   "nbconvert_exporter": "python",
   "pygments_lexer": "ipython3",
   "version": "3.6.9"
  },
  "nteract": {
   "version": "0.22.0"
  }
 },
 "nbformat": 4,
 "nbformat_minor": 4
}
